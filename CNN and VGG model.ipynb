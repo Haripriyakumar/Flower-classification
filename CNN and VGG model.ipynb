{
 "cells": [
  {
   "cell_type": "markdown",
   "metadata": {
    "colab_type": "text",
    "id": "ISm0bofEphLN"
   },
   "source": [
    "Haripriya Kumar(NN7365)"
   ]
  },
  {
   "cell_type": "code",
   "execution_count": 2,
   "metadata": {
    "colab": {
     "base_uri": "https://localhost:8080/",
     "height": 97
    },
    "colab_type": "code",
    "id": "rUpHsTZ6pe1G",
    "outputId": "3e58aa5c-886e-4110-c37a-69ff4c369090"
   },
   "outputs": [
    {
     "name": "stdout",
     "output_type": "stream",
     "text": [
      "2.3.0\n"
     ]
    }
   ],
   "source": [
    "import tensorflow as tf\n",
    "from tensorflow import keras\n",
    "import numpy as np\n",
    "import pandas as pd\n",
    "import random\n",
    "import matplotlib.pyplot as plt\n",
    "import seaborn as sns\n",
    "import os\n",
    "import shutil as cf\n",
    "import keras\n",
    "from keras.preprocessing import image\n",
    "from keras.preprocessing.image import ImageDataGenerator\n",
    "#from tensorflow.keras.models import Sequential\n",
    "from keras.models import Sequential\n",
    "from keras.layers import Dense\n",
    "from keras.layers import Dropout\n",
    "from keras.layers import Flatten\n",
    "from keras.layers import Activation\n",
    "from keras.layers.convolutional import Conv2D\n",
    "from keras.layers.convolutional import MaxPooling2D\n",
    "from keras.optimizers import SGD\n",
    "print(tf.__version__)\n"
   ]
  },
  {
   "cell_type": "markdown",
   "metadata": {
    "colab_type": "text",
    "id": "0QAEm4IZ5sJe"
   },
   "source": [
    "**Data Preprocessing**"
   ]
  },
  {
   "cell_type": "code",
   "execution_count": 3,
   "metadata": {
    "colab": {},
    "colab_type": "code",
    "id": "h8jLT-8Hovn-"
   },
   "outputs": [
    {
     "data": {
      "text/html": [
       "<div>\n",
       "<style scoped>\n",
       "    .dataframe tbody tr th:only-of-type {\n",
       "        vertical-align: middle;\n",
       "    }\n",
       "\n",
       "    .dataframe tbody tr th {\n",
       "        vertical-align: top;\n",
       "    }\n",
       "\n",
       "    .dataframe thead th {\n",
       "        text-align: right;\n",
       "    }\n",
       "</style>\n",
       "<table border=\"1\" class=\"dataframe\">\n",
       "  <thead>\n",
       "    <tr style=\"text-align: right;\">\n",
       "      <th></th>\n",
       "      <th>Image</th>\n",
       "      <th>Class</th>\n",
       "    </tr>\n",
       "  </thead>\n",
       "  <tbody>\n",
       "    <tr>\n",
       "      <td>335</td>\n",
       "      <td>JFT_00864.jpg</td>\n",
       "      <td>19</td>\n",
       "    </tr>\n",
       "    <tr>\n",
       "      <td>1044</td>\n",
       "      <td>JFT_00801.jpg</td>\n",
       "      <td>18</td>\n",
       "    </tr>\n",
       "    <tr>\n",
       "      <td>1462</td>\n",
       "      <td>JFT_01447.jpg</td>\n",
       "      <td>29</td>\n",
       "    </tr>\n",
       "    <tr>\n",
       "      <td>89</td>\n",
       "      <td>JFT_00239.jpg</td>\n",
       "      <td>6</td>\n",
       "    </tr>\n",
       "    <tr>\n",
       "      <td>1125</td>\n",
       "      <td>JFT_00921.jpg</td>\n",
       "      <td>20</td>\n",
       "    </tr>\n",
       "  </tbody>\n",
       "</table>\n",
       "</div>"
      ],
      "text/plain": [
       "              Image  Class\n",
       "335   JFT_00864.jpg     19\n",
       "1044  JFT_00801.jpg     18\n",
       "1462  JFT_01447.jpg     29\n",
       "89    JFT_00239.jpg      6\n",
       "1125  JFT_00921.jpg     20"
      ]
     },
     "execution_count": 3,
     "metadata": {},
     "output_type": "execute_result"
    }
   ],
   "source": [
    "image_flowers = pd.read_csv('classlabels.txt', sep=\",\", header=None)\n",
    "image_flowers.columns = [\"Image\", \"Class\"]\n",
    "image_flowers = image_flowers.sort_values('Image')\n",
    "image_flowers = image_flowers.reindex(np.random.permutation(image_flowers.index))\n",
    "split = int(0.7 * len(image_flowers))\n",
    "train_names = image_flowers.iloc[:split]\n",
    "val_names = image_flowers.iloc[split:]\n",
    "\n",
    "train_images = train_names['Image'].tolist()\n",
    "val_images = val_names['Image'].tolist()\n",
    "\n",
    "val_names.head()"
   ]
  },
  {
   "cell_type": "code",
   "execution_count": 4,
   "metadata": {
    "colab": {},
    "colab_type": "code",
    "id": "4Ca4RFNYovql"
   },
   "outputs": [],
   "source": [
    "file_init = 'JF30-1'\n",
    "JPEG_keyword = 'jpg'\n",
    "class_label_ext = 'classlabels.txt' \n",
    "train_keyword = 'Training'\n",
    "validation_keyword = 'Validation'\n",
    "keywords = [train_keyword,validation_keyword]\n",
    "\n",
    "label_file_handle = open(class_label_ext, 'r')\n",
    "labels_raw_image = label_file_handle.read()\n",
    "labels_raw = labels_raw_image.split('\\n')\n",
    "label_dir =[]\n",
    "if('' in labels_raw):labels_raw.remove('')\n",
    "for keyword in keywords:\n",
    "    img_type = []\n",
    "    if keyword == train_keyword: img_type.append(train_images)\n",
    "    elif keyword == validation_keyword: img_type.append(val_images)\n",
    "    for a in img_type[0]:\n",
    "        if(not os.path.exists(keyword)):\n",
    "            os.mkdir(keyword)\n",
    "        for label_format in labels_raw:\n",
    "            label_dir = label_format.split(',')[1]\n",
    "            file_name = label_format.split(',')[0]\n",
    "            label_dir_path = keyword+'/'+label_dir\n",
    "            if(not os.path.exists(label_dir_path)):\n",
    "                os.mkdir(label_dir_path)\n",
    "            file_name = file_name.strip()\n",
    "            a = a.strip()\n",
    "            if file_name.lower() == a.lower():\n",
    "                file_path = JPEG_keyword+'/'+a\n",
    "                cf.copy(file_path, label_dir_path)"
   ]
  },
  {
   "cell_type": "code",
   "execution_count": 5,
   "metadata": {
    "colab": {
     "base_uri": "https://localhost:8080/",
     "height": 849
    },
    "colab_type": "code",
    "id": "M-oOaxixovtP",
    "outputId": "7da78874-0d8a-4264-b12c-d364af56f6e3"
   },
   "outputs": [
    {
     "name": "stdout",
     "output_type": "stream",
     "text": [
      "6     70\n",
      "28    68\n",
      "23    67\n",
      "13    66\n",
      "4     66\n",
      "2     65\n",
      "7     64\n",
      "18    63\n",
      "29    63\n",
      "20    61\n",
      "27    61\n",
      "24    60\n",
      "10    60\n",
      "25    56\n",
      "19    55\n",
      "14    54\n",
      "5     54\n",
      "22    49\n",
      "12    48\n",
      "9     46\n",
      "17    45\n",
      "3     41\n",
      "21    38\n",
      "11    36\n",
      "26    35\n",
      "8     28\n",
      "16    24\n",
      "15    13\n",
      "30    12\n",
      "1     11\n",
      "Name: Class, dtype: int64\n",
      "\n"
     ]
    },
    {
     "data": {
      "image/png": "[encoded data removed]",
      "text/plain": [
       "<Figure size 432x288 with 1 Axes>"
      ]
     },
     "metadata": {},
     "output_type": "display_data"
    }
   ],
   "source": [
    "#Preprocessing\n",
    "Class_Frequency_Count = image_flowers['Class'].value_counts()\n",
    "print(str(Class_Frequency_Count) + \"\\n\")\n",
    "sns.set(style=\"darkgrid\")\n",
    "sns.barplot(Class_Frequency_Count.index,Class_Frequency_Count.values,alpha=0.9)\n",
    "plt.title(\"Frequency Distribution of Classes\")\n",
    "plt.ylabel(\"Number of Occurances\", fontsize=12)\n",
    "plt.xticks(rotation=90)\n",
    "plt.xlabel(\"Classes\", fontsize=12)\n",
    "plt.show()\n",
    "# we see that class 6 has the highest number of occurances which is 70 "
   ]
  },
  {
   "cell_type": "code",
   "execution_count": 6,
   "metadata": {
    "colab": {
     "base_uri": "https://localhost:8080/",
     "height": 51
    },
    "colab_type": "code",
    "id": "lnjIO7QH8Kc8",
    "outputId": "e04dc908-cbad-459d-ce86-747d3f865816"
   },
   "outputs": [
    {
     "name": "stdout",
     "output_type": "stream",
     "text": [
      "Found 1035 images belonging to 30 classes.\n",
      "Found 444 images belonging to 30 classes.\n"
     ]
    }
   ],
   "source": [
    "train_dir = 'Training'\n",
    "validation_dir = 'Validation'\n",
    "\n",
    "train_datagen = ImageDataGenerator(\n",
    "      rescale=1./255,\n",
    "      rotation_range=20,\n",
    "      width_shift_range=0.2,\n",
    "      height_shift_range=0.2,\n",
    "      horizontal_flip=True,\n",
    "      fill_mode='nearest')\n",
    " \n",
    "validation_datagen = ImageDataGenerator(rescale=1./255)\n",
    " \n",
    "# Change the batchsize according to your system RAM\n",
    "train_batchsize = 40\n",
    "val_batchsize = 40\n",
    " \n",
    "train_generator = train_datagen.flow_from_directory( #input dataset\n",
    "        train_dir,\n",
    "        target_size=(224, 224),\n",
    "        batch_size=train_batchsize,\n",
    "        class_mode='categorical')\n",
    " \n",
    "validation_generator = validation_datagen.flow_from_directory( #input dataset\n",
    "        validation_dir,\n",
    "        target_size=(224, 224),\n",
    "        batch_size=val_batchsize,\n",
    "        class_mode='categorical',\n",
    "        shuffle=False)"
   ]
  },
  {
   "cell_type": "markdown",
   "metadata": {
    "colab_type": "text",
    "id": "RWusIbtq5dJM"
   },
   "source": [
    "**Model 1** **BaseLine Model**"
   ]
  },
  {
   "cell_type": "code",
   "execution_count": 7,
   "metadata": {
    "colab": {
     "base_uri": "https://localhost:8080/",
     "height": 34
    },
    "colab_type": "code",
    "id": "B1thht_RtZWA",
    "outputId": "be29feae-645e-4835-c52d-6ab4d14a6db6"
   },
   "outputs": [
    {
     "name": "stdout",
     "output_type": "stream",
     "text": [
      "Baseline is: 4.7361299052774015\n"
     ]
    }
   ],
   "source": [
    "# Model 1\n",
    "classlabels= pd.read_csv(\"/Users/haripriyakumar/Desktop/BAN676/Assignment 2/classlabels.txt\", sep=\",\")\n",
    "classlabels.columns = [\"Image\", \"Class\"]\n",
    "baseline = classlabels['Class'].value_counts() * 100 / len(classlabels['Class'])\n",
    "print(\"Baseline is:\",baseline[6])"
   ]
  },
  {
   "cell_type": "markdown",
   "metadata": {
    "colab_type": "text",
    "id": "18KYP0PI5hAe"
   },
   "source": [
    "**Model 2** **CNN Model**"
   ]
  },
  {
   "cell_type": "code",
   "execution_count": 23,
   "metadata": {
    "colab": {},
    "colab_type": "code",
    "id": "Pg0TnMTG49pS"
   },
   "outputs": [],
   "source": [
    "# Building a CNN Model \n",
    "# Model 2\n",
    "model = Sequential()\n",
    "model.add(Conv2D(64, (3, 3), padding='same', input_shape=(224, 224, 3)))\n",
    "model.add(Activation('relu'))\n",
    "model.add(Conv2D(32,(3, 3)))\n",
    "model.add(Activation('relu'))\n",
    "model.add(MaxPooling2D(pool_size=(2, 2)))\n",
    "model.add(Dropout(0.25))\n",
    "\n",
    "model.add(Conv2D(32, (3,3)))\n",
    "model.add(Activation('relu'))\n",
    "model.add(MaxPooling2D(pool_size=(2, 2)))\n",
    "model.add(Dropout(0.25))\n",
    " \n",
    "model.add(Flatten())\n",
    "model.add(Dense(512))\n",
    "model.add(Activation('relu'))\n",
    "model.add(Dropout(0.5))\n",
    "\n",
    "# Output classes are 30\n",
    "model.add(Dense(30))\n",
    "model.add(Activation('softmax'))"
   ]
  },
  {
   "cell_type": "code",
   "execution_count": 24,
   "metadata": {
    "colab": {
     "base_uri": "https://localhost:8080/",
     "height": 697
    },
    "colab_type": "code",
    "id": "ROmFANOB49sy",
    "outputId": "be4b7c44-7ccd-4117-e84b-92ac206d56f4"
   },
   "outputs": [
    {
     "name": "stdout",
     "output_type": "stream",
     "text": [
      "Model: \"sequential_2\"\n",
      "_________________________________________________________________\n",
      "Layer (type)                 Output Shape              Param #   \n",
      "=================================================================\n",
      "conv2d_3 (Conv2D)            (None, 224, 224, 64)      1792      \n",
      "_________________________________________________________________\n",
      "activation_5 (Activation)    (None, 224, 224, 64)      0         \n",
      "_________________________________________________________________\n",
      "conv2d_4 (Conv2D)            (None, 222, 222, 32)      18464     \n",
      "_________________________________________________________________\n",
      "activation_6 (Activation)    (None, 222, 222, 32)      0         \n",
      "_________________________________________________________________\n",
      "max_pooling2d_2 (MaxPooling2 (None, 111, 111, 32)      0         \n",
      "_________________________________________________________________\n",
      "dropout_4 (Dropout)          (None, 111, 111, 32)      0         \n",
      "_________________________________________________________________\n",
      "conv2d_5 (Conv2D)            (None, 109, 109, 32)      9248      \n",
      "_________________________________________________________________\n",
      "activation_7 (Activation)    (None, 109, 109, 32)      0         \n",
      "_________________________________________________________________\n",
      "max_pooling2d_3 (MaxPooling2 (None, 54, 54, 32)        0         \n",
      "_________________________________________________________________\n",
      "dropout_5 (Dropout)          (None, 54, 54, 32)        0         \n",
      "_________________________________________________________________\n",
      "flatten_2 (Flatten)          (None, 93312)             0         \n",
      "_________________________________________________________________\n",
      "dense_6 (Dense)              (None, 512)               47776256  \n",
      "_________________________________________________________________\n",
      "activation_8 (Activation)    (None, 512)               0         \n",
      "_________________________________________________________________\n",
      "dropout_6 (Dropout)          (None, 512)               0         \n",
      "_________________________________________________________________\n",
      "dense_7 (Dense)              (None, 30)                15390     \n",
      "_________________________________________________________________\n",
      "activation_9 (Activation)    (None, 30)                0         \n",
      "=================================================================\n",
      "Total params: 47,821,150\n",
      "Trainable params: 47,821,150\n",
      "Non-trainable params: 0\n",
      "_________________________________________________________________\n"
     ]
    }
   ],
   "source": [
    "# Show a summary of the model.\n",
    "model.summary()"
   ]
  },
  {
   "cell_type": "code",
   "execution_count": 25,
   "metadata": {
    "colab": {},
    "colab_type": "code",
    "id": "ru5t2IET49wS"
   },
   "outputs": [],
   "source": [
    "model.compile(loss='categorical_crossentropy',\n",
    "              optimizer=keras.optimizers.RMSprop(lr=1e-4),\n",
    "              metrics=['acc'])"
   ]
  },
  {
   "cell_type": "code",
   "execution_count": 26,
   "metadata": {
    "colab": {
     "base_uri": "https://localhost:8080/",
     "height": 357
    },
    "colab_type": "code",
    "id": "WoWIh3TY49zg",
    "outputId": "623c0d76-7a9f-4340-e548-146e81e6b8f1"
   },
   "outputs": [
    {
     "name": "stdout",
     "output_type": "stream",
     "text": [
      "Epoch 1/10\n",
      "26/25 [==============================] - 87s 3s/step - loss: 3.4038 - acc: 0.0705 - val_loss: 3.2075 - val_acc: 0.1216\n",
      "Epoch 2/10\n",
      "26/25 [==============================] - 86s 3s/step - loss: 3.0658 - acc: 0.1188 - val_loss: 2.9214 - val_acc: 0.1779\n",
      "Epoch 3/10\n",
      "26/25 [==============================] - 80s 3s/step - loss: 2.8810 - acc: 0.1459 - val_loss: 2.7839 - val_acc: 0.2590\n",
      "Epoch 4/10\n",
      "26/25 [==============================] - 83s 3s/step - loss: 2.7428 - acc: 0.1739 - val_loss: 2.6116 - val_acc: 0.2928\n",
      "Epoch 5/10\n",
      "26/25 [==============================] - 83s 3s/step - loss: 2.5825 - acc: 0.2087 - val_loss: 2.4610 - val_acc: 0.3153\n",
      "Epoch 6/10\n",
      "26/25 [==============================] - 80s 3s/step - loss: 2.4509 - acc: 0.2725 - val_loss: 2.3242 - val_acc: 0.3626\n",
      "Epoch 7/10\n",
      "26/25 [==============================] - 84s 3s/step - loss: 2.3695 - acc: 0.2715 - val_loss: 2.2168 - val_acc: 0.4189\n",
      "Epoch 8/10\n",
      "26/25 [==============================] - 86s 3s/step - loss: 2.2832 - acc: 0.2937 - val_loss: 2.1260 - val_acc: 0.4212\n",
      "Epoch 9/10\n",
      "26/25 [==============================] - 86s 3s/step - loss: 2.1645 - acc: 0.3333 - val_loss: 2.0059 - val_acc: 0.4459\n",
      "Epoch 10/10\n",
      "26/25 [==============================] - 80s 3s/step - loss: 2.1083 - acc: 0.3469 - val_loss: 1.9386 - val_acc: 0.4459\n"
     ]
    }
   ],
   "source": [
    "#Training the model 2\n",
    "history = model.fit_generator(\n",
    "train_generator,\n",
    "steps_per_epoch=train_generator.samples/train_generator.batch_size ,\n",
    "epochs=10,\n",
    "validation_data=validation_generator,\n",
    "validation_steps=validation_generator.samples/validation_generator.batch_size,\n",
    "verbose=1)"
   ]
  },
  {
   "cell_type": "code",
   "execution_count": 27,
   "metadata": {
    "colab": {
     "base_uri": "https://localhost:8080/",
     "height": 51
    },
    "colab_type": "code",
    "id": "LhGMrmQ54959",
    "outputId": "a109609e-0c97-4656-af86-24ffc3dd8b82"
   },
   "outputs": [
    {
     "name": "stdout",
     "output_type": "stream",
     "text": [
      "Validation Accuracy: 0.44594594836235046\n",
      "Training Accuracy 0.3468599021434784\n"
     ]
    }
   ],
   "source": [
    "# Mode 2 Accuracy\n",
    "print(\"Validation Accuracy:\", max(history.history['val_acc']))\n",
    "print(\"Training Accuracy\", max(history.history['acc']))"
   ]
  },
  {
   "cell_type": "code",
   "execution_count": 28,
   "metadata": {
    "colab": {
     "base_uri": "https://localhost:8080/",
     "height": 289
    },
    "colab_type": "code",
    "id": "T5ETzK9R5R-8",
    "outputId": "1702a09b-d98e-453e-d67f-37462a543cda"
   },
   "outputs": [
    {
     "data": {
      "image/png": "[encoded data removed]",
      "text/plain": [
       "<Figure size 432x288 with 1 Axes>"
      ]
     },
     "metadata": {},
     "output_type": "display_data"
    }
   ],
   "source": [
    "# Model 2 Graph\n",
    "def plot_history(history):\n",
    "  plt.figure()\n",
    "  plt.xlabel('Epoch')\n",
    "  plt.ylabel('Accuracy')\n",
    "  plt.plot(history.epoch, np.array(history.history['acc']),\n",
    "           label='Training accuracy')\n",
    "  plt.plot(history.epoch, np.array(history.history['val_acc']),\n",
    "           label = 'Validation accuracy')\n",
    "  plt.legend()\n",
    "  plt.ylim([0, 1])\n",
    "\n",
    "plot_history(history)"
   ]
  },
  {
   "cell_type": "markdown",
   "metadata": {
    "colab_type": "text",
    "id": "IW0baVAD5VxN"
   },
   "source": [
    "**Model 3** \n",
    "**Fine Tuning Model**\n"
   ]
  },
  {
   "cell_type": "code",
   "execution_count": 15,
   "metadata": {
    "colab": {
     "base_uri": "https://localhost:8080/",
     "height": 71
    },
    "colab_type": "code",
    "id": "LOYzMEPxovv6",
    "outputId": "0f40f3a4-14d4-4694-8867-55d60fd2d215"
   },
   "outputs": [],
   "source": [
    "from keras.applications import VGG16\n",
    " \n",
    "vgg_conv = VGG16(weights='imagenet',include_top=False,input_shape=(224, 224, 3))"
   ]
  },
  {
   "cell_type": "code",
   "execution_count": 16,
   "metadata": {
    "colab": {
     "base_uri": "https://localhost:8080/",
     "height": 340
    },
    "colab_type": "code",
    "id": "WLuq1lu8ovyh",
    "outputId": "98c6e05f-08c8-4d7d-b6a6-36f32af4f503"
   },
   "outputs": [
    {
     "name": "stdout",
     "output_type": "stream",
     "text": [
      "<tensorflow.python.keras.engine.input_layer.InputLayer object at 0x154a27d50> False\n",
      "<tensorflow.python.keras.layers.convolutional.Conv2D object at 0x1549d2c90> False\n",
      "<tensorflow.python.keras.layers.convolutional.Conv2D object at 0x154115f90> False\n",
      "<tensorflow.python.keras.layers.pooling.MaxPooling2D object at 0x1554d85d0> False\n",
      "<tensorflow.python.keras.layers.convolutional.Conv2D object at 0x13bb6c450> False\n",
      "<tensorflow.python.keras.layers.convolutional.Conv2D object at 0x1554f21d0> False\n",
      "<tensorflow.python.keras.layers.pooling.MaxPooling2D object at 0x13bb63e10> False\n",
      "<tensorflow.python.keras.layers.convolutional.Conv2D object at 0x1549975d0> False\n",
      "<tensorflow.python.keras.layers.convolutional.Conv2D object at 0x1554f8210> False\n",
      "<tensorflow.python.keras.layers.convolutional.Conv2D object at 0x1554f9c50> False\n",
      "<tensorflow.python.keras.layers.pooling.MaxPooling2D object at 0x1554fda50> False\n",
      "<tensorflow.python.keras.layers.convolutional.Conv2D object at 0x1556d0510> False\n",
      "<tensorflow.python.keras.layers.convolutional.Conv2D object at 0x1556d2dd0> False\n",
      "<tensorflow.python.keras.layers.convolutional.Conv2D object at 0x1556d6e90> False\n",
      "<tensorflow.python.keras.layers.pooling.MaxPooling2D object at 0x1556de2d0> False\n",
      "<tensorflow.python.keras.layers.convolutional.Conv2D object at 0x154aa8a10> True\n",
      "<tensorflow.python.keras.layers.convolutional.Conv2D object at 0x13bb6c590> True\n",
      "<tensorflow.python.keras.layers.convolutional.Conv2D object at 0x1556eda90> True\n",
      "<tensorflow.python.keras.layers.pooling.MaxPooling2D object at 0x1556f5d50> True\n"
     ]
    }
   ],
   "source": [
    "# Freeze the layers except the last 4 layers\n",
    "for layer in vgg_conv.layers[:-4]:\n",
    "    layer.trainable = False\n",
    "\n",
    "# check the trainable status of the individual layers\n",
    "for layer in vgg_conv.layers:\n",
    "    print(layer, layer.trainable)"
   ]
  },
  {
   "cell_type": "code",
   "execution_count": 17,
   "metadata": {
    "colab": {
     "base_uri": "https://localhost:8080/",
     "height": 391
    },
    "colab_type": "code",
    "id": "V1yYCz48ov1J",
    "outputId": "24487c57-415b-4994-bedf-a735bc76dba1"
   },
   "outputs": [
    {
     "name": "stdout",
     "output_type": "stream",
     "text": [
      "Model: \"sequential_1\"\n",
      "_________________________________________________________________\n",
      "Layer (type)                 Output Shape              Param #   \n",
      "=================================================================\n",
      "vgg16 (Functional)           (None, 7, 7, 512)         14714688  \n",
      "_________________________________________________________________\n",
      "flatten_1 (Flatten)          (None, 25088)             0         \n",
      "_________________________________________________________________\n",
      "dense_2 (Dense)              (None, 1024)              25691136  \n",
      "_________________________________________________________________\n",
      "dropout_3 (Dropout)          (None, 1024)              0         \n",
      "_________________________________________________________________\n",
      "dense_3 (Dense)              (None, 1024)              1049600   \n",
      "_________________________________________________________________\n",
      "dense_4 (Dense)              (None, 1024)              1049600   \n",
      "_________________________________________________________________\n",
      "dense_5 (Dense)              (None, 30)                30750     \n",
      "=================================================================\n",
      "Total params: 42,535,774\n",
      "Trainable params: 34,900,510\n",
      "Non-trainable params: 7,635,264\n",
      "_________________________________________________________________\n"
     ]
    }
   ],
   "source": [
    "# Create the model\n",
    "model = keras.models.Sequential()\n",
    "\n",
    "# Add the vgg convolutional base model\n",
    "model.add(vgg_conv)\n",
    " \n",
    "# Add new custom layers\n",
    "model.add(keras.layers.Flatten())\n",
    "model.add(keras.layers.Dense(1024, activation='relu'))\n",
    "model.add(keras.layers.Dropout(0.5))\n",
    "model.add(keras.layers.Dense(1024, activation='relu'))\n",
    "model.add(keras.layers.Dense(1024, activation='relu'))\n",
    "model.add(keras.layers.Dense(30, activation= tf.nn.softmax))\n",
    " \n",
    "# Show a summary of the model. Check the number of trainable parameters\n",
    "model.summary()"
   ]
  },
  {
   "cell_type": "code",
   "execution_count": 18,
   "metadata": {
    "colab": {
     "base_uri": "https://localhost:8080/",
     "height": 136
    },
    "colab_type": "code",
    "id": "YCNyKJviov39",
    "outputId": "af788d9f-c875-4865-9768-516f63c2fc67"
   },
   "outputs": [
    {
     "name": "stdout",
     "output_type": "stream",
     "text": [
      "<tensorflow.python.keras.engine.functional.Functional object at 0x1556f9d90> True\n",
      "<tensorflow.python.keras.layers.core.Flatten object at 0x1528e8250> True\n",
      "<tensorflow.python.keras.layers.core.Dense object at 0x13bb59a50> True\n",
      "<tensorflow.python.keras.layers.core.Dropout object at 0x154ed4c90> True\n",
      "<tensorflow.python.keras.layers.core.Dense object at 0x155718dd0> True\n",
      "<tensorflow.python.keras.layers.core.Dense object at 0x155621f90> True\n",
      "<tensorflow.python.keras.layers.core.Dense object at 0x155725e90> True\n"
     ]
    }
   ],
   "source": [
    "# check the trainable status of the individual layers\n",
    "for layer in model.layers:\n",
    "    print(layer, layer.trainable)"
   ]
  },
  {
   "cell_type": "code",
   "execution_count": 19,
   "metadata": {
    "colab": {
     "base_uri": "https://localhost:8080/",
     "height": 357
    },
    "colab_type": "code",
    "id": "2CEbZdNXov9d",
    "outputId": "86c86486-3bf5-414f-df1c-2ada137e934e"
   },
   "outputs": [
    {
     "name": "stdout",
     "output_type": "stream",
     "text": [
      "Epoch 1/10\n",
      "26/25 [==============================] - 133s 5s/step - loss: 2.8007 - acc: 0.2357 - val_loss: 1.7465 - val_acc: 0.4887\n",
      "Epoch 2/10\n",
      "26/25 [==============================] - 136s 5s/step - loss: 1.5785 - acc: 0.5324 - val_loss: 1.1620 - val_acc: 0.6757\n",
      "Epoch 3/10\n",
      "26/25 [==============================] - 140s 5s/step - loss: 1.0121 - acc: 0.6966 - val_loss: 0.7473 - val_acc: 0.7905\n",
      "Epoch 4/10\n",
      "26/25 [==============================] - 144s 6s/step - loss: 0.6857 - acc: 0.7836 - val_loss: 0.5344 - val_acc: 0.8041\n",
      "Epoch 5/10\n",
      "26/25 [==============================] - 144s 6s/step - loss: 0.6259 - acc: 0.8039 - val_loss: 0.3533 - val_acc: 0.8964\n",
      "Epoch 6/10\n",
      "26/25 [==============================] - 145s 6s/step - loss: 0.4286 - acc: 0.8599 - val_loss: 0.3118 - val_acc: 0.9212\n",
      "Epoch 7/10\n",
      "26/25 [==============================] - 145s 6s/step - loss: 0.4008 - acc: 0.8744 - val_loss: 0.3464 - val_acc: 0.8896\n",
      "Epoch 8/10\n",
      "26/25 [==============================] - 149s 6s/step - loss: 0.3176 - acc: 0.8976 - val_loss: 0.3899 - val_acc: 0.9144\n",
      "Epoch 9/10\n",
      "26/25 [==============================] - 154s 6s/step - loss: 0.2753 - acc: 0.9208 - val_loss: 0.2177 - val_acc: 0.9392\n",
      "Epoch 10/10\n",
      "26/25 [==============================] - 145s 6s/step - loss: 0.2047 - acc: 0.9304 - val_loss: 0.1765 - val_acc: 0.9437\n"
     ]
    }
   ],
   "source": [
    "#Model 3\n",
    "model.compile(loss='categorical_crossentropy',\n",
    "              optimizer=keras.optimizers.RMSprop(lr=1e-4),\n",
    "              metrics=['acc'])\n",
    "\n",
    "history_r = model.fit_generator(\n",
    "      train_generator,\n",
    "      steps_per_epoch=train_generator.samples/train_generator.batch_size ,\n",
    "      epochs=10,\n",
    "      validation_data=validation_generator,\n",
    "      validation_steps=validation_generator.samples/validation_generator.batch_size,\n",
    "      verbose=1)"
   ]
  },
  {
   "cell_type": "code",
   "execution_count": 20,
   "metadata": {
    "colab": {
     "base_uri": "https://localhost:8080/",
     "height": 51
    },
    "colab_type": "code",
    "id": "LDR39xeE9qz8",
    "outputId": "2a60e162-c54e-4095-ca68-3de9da0d76ec"
   },
   "outputs": [
    {
     "name": "stdout",
     "output_type": "stream",
     "text": [
      "Validation Accuracy: 0.9436936974525452\n",
      "Training Accuracy 0.9304347634315491\n"
     ]
    }
   ],
   "source": [
    "#Model 3 - Accuracy\n",
    "print(\"Validation Accuracy:\", max(history_r.history['val_acc']))\n",
    "print(\"Training Accuracy\", max(history_r.history['acc']))"
   ]
  },
  {
   "cell_type": "code",
   "execution_count": 21,
   "metadata": {
    "colab": {
     "base_uri": "https://localhost:8080/",
     "height": 585
    },
    "colab_type": "code",
    "id": "wFd8vuyyowAL",
    "outputId": "72f6721c-0707-4438-ed0a-503e827ede2e"
   },
   "outputs": [
    {
     "data": {
      "image/png": "[encoded data removed]",
      "text/plain": [
       "<Figure size 432x288 with 1 Axes>"
      ]
     },
     "metadata": {},
     "output_type": "display_data"
    },
    {
     "data": {
      "image/png": "[encoded data removed]",
      "text/plain": [
       "<Figure size 432x288 with 1 Axes>"
      ]
     },
     "metadata": {},
     "output_type": "display_data"
    }
   ],
   "source": [
    "# Model 3 Graph\n",
    "acc = history_r.history['acc']\n",
    "val_acc = history_r.history['val_acc']\n",
    "loss = history_r.history['loss']\n",
    "val_loss = history_r.history['val_loss']\n",
    " \n",
    "epochs = range(len(acc))\n",
    " \n",
    "plt.plot(epochs, acc, 'b', label='Training acc')\n",
    "plt.plot(epochs, val_acc, 'r', label='Validation acc')\n",
    "plt.title('Training and validation accuracy')\n",
    "plt.xlabel('Epochs')\n",
    "plt.ylabel('Accuracy')\n",
    "plt.legend()\n",
    " \n",
    "plt.figure()\n",
    " \n",
    "plt.plot(epochs, loss, 'b', label='Training loss')\n",
    "plt.plot(epochs, val_loss, 'r', label='Validation loss')\n",
    "plt.title('Training and validation loss')\n",
    "plt.xlabel('Epochs')\n",
    "plt.ylabel('Loss')\n",
    "plt.legend()\n",
    "plt.show()"
   ]
  },
  {
   "cell_type": "markdown",
   "metadata": {
    "colab_type": "text",
    "id": "bHmYsbeyEw59"
   },
   "source": [
    "\n",
    "Accuracy for     \n",
    " Baseline Model 1 - 4.73%,   \n",
    " CNN Model 2 - 44% and   \n",
    " Model 3 using fine tuning - 94%\n",
    "\n",
    "CNN Model 2 and Model 3 using fine tuning performed better than the Baseline Model 1 and we can conclude that the Fine tuning Model is a better model as compared to the other two models as it has higher accuracy. \n"
   ]
  },
  {
   "cell_type": "code",
   "execution_count": 0,
   "metadata": {
    "colab": {},
    "colab_type": "code",
    "id": "j6yANlUZxLt8"
   },
   "outputs": [],
   "source": []
  }
 ],
 "metadata": {
  "accelerator": "GPU",
  "colab": {
   "collapsed_sections": [],
   "name": "DL_Assignment2.ipynb",
   "provenance": []
  },
  "kernelspec": {
   "display_name": "Python 3",
   "language": "python",
   "name": "python3"
  },
  "language_info": {
   "codemirror_mode": {
    "name": "ipython",
    "version": 3
   },
   "file_extension": ".py",
   "mimetype": "text/x-python",
   "name": "python",
   "nbconvert_exporter": "python",
   "pygments_lexer": "ipython3",
   "version": "3.7.4"
  }
 },
 "nbformat": 4,
 "nbformat_minor": 1
}
